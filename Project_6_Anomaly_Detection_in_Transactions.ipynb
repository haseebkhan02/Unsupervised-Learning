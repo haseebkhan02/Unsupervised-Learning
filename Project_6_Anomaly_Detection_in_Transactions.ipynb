{
 "cells": [
  {
   "cell_type": "markdown",
   "id": "60121911",
   "metadata": {},
   "source": [
    "###  **Project Summary & Key Points**\n",
    "\n",
    "- **Goal:** Detect fraudulent or unusual transactions automatically.\n",
    "\n",
    "**Techniques Used:**\n",
    "- Isolation Forest: Splits data recursively; anomalies isolated quickly.\n",
    "- One-Class SVM: Learns normal transaction pattern; flags deviations as anomalies.\n",
    "\n",
    "**Observations:**\n",
    "- Most transactions are normal; anomalies are extremely rare (imbalanced dataset).\n",
    "- Isolation Forest is generally faster and works well with high-dimensional datasets.\n",
    "- One-Class SVM is more sensitive but requires careful tuning of nu and gamma.\n",
    "\n",
    "**Real-World Impact:** Helps banks and fintech companies prevent fraud and save millions by flagging suspicious transactions early"
   ]
  },
  {
   "cell_type": "markdown",
   "id": "b03630b6",
   "metadata": {},
   "source": [
    "### Import Libraries"
   ]
  },
  {
   "cell_type": "code",
   "execution_count": 1,
   "id": "449160e0",
   "metadata": {},
   "outputs": [],
   "source": [
    "import pandas as pd\n",
    "import numpy as np\n",
    "from sklearn.preprocessing import StandardScaler\n",
    "from sklearn.ensemble import IsolationForest\n",
    "from sklearn.svm import OneClassSVM\n",
    "from sklearn.metrics import classification_report, confusion_matrix\n",
    "import matplotlib.pyplot as plt\n",
    "import seaborn as sns\n"
   ]
  },
  {
   "cell_type": "markdown",
   "id": "c4adf173",
   "metadata": {},
   "source": [
    "### 2. Load Dataset "
   ]
  },
  {
   "cell_type": "code",
   "execution_count": 3,
   "id": "c85e8adf",
   "metadata": {},
   "outputs": [
    {
     "name": "stdout",
     "output_type": "stream",
     "text": [
      "Dataset shape: (284807, 31)\n",
      "   Time        V1        V2        V3        V4        V5        V6        V7  \\\n",
      "0   0.0 -1.359807 -0.072781  2.536347  1.378155 -0.338321  0.462388  0.239599   \n",
      "1   0.0  1.191857  0.266151  0.166480  0.448154  0.060018 -0.082361 -0.078803   \n",
      "2   1.0 -1.358354 -1.340163  1.773209  0.379780 -0.503198  1.800499  0.791461   \n",
      "3   1.0 -0.966272 -0.185226  1.792993 -0.863291 -0.010309  1.247203  0.237609   \n",
      "4   2.0 -1.158233  0.877737  1.548718  0.403034 -0.407193  0.095921  0.592941   \n",
      "\n",
      "         V8        V9  ...       V21       V22       V23       V24       V25  \\\n",
      "0  0.098698  0.363787  ... -0.018307  0.277838 -0.110474  0.066928  0.128539   \n",
      "1  0.085102 -0.255425  ... -0.225775 -0.638672  0.101288 -0.339846  0.167170   \n",
      "2  0.247676 -1.514654  ...  0.247998  0.771679  0.909412 -0.689281 -0.327642   \n",
      "3  0.377436 -1.387024  ... -0.108300  0.005274 -0.190321 -1.175575  0.647376   \n",
      "4 -0.270533  0.817739  ... -0.009431  0.798278 -0.137458  0.141267 -0.206010   \n",
      "\n",
      "        V26       V27       V28  Amount  Class  \n",
      "0 -0.189115  0.133558 -0.021053  149.62      0  \n",
      "1  0.125895 -0.008983  0.014724    2.69      0  \n",
      "2 -0.139097 -0.055353 -0.059752  378.66      0  \n",
      "3 -0.221929  0.062723  0.061458  123.50      0  \n",
      "4  0.502292  0.219422  0.215153   69.99      0  \n",
      "\n",
      "[5 rows x 31 columns]\n"
     ]
    }
   ],
   "source": [
    "# Example: Credit Card Fraud Dataset (Kaggle)\n",
    "# https://www.kaggle.com/datasets/mlg-ulb/creditcardfraud\n",
    "\n",
    "df = pd.read_csv(\"Data/creditcard.csv\")\n",
    "\n",
    "print(\"Dataset shape:\", df.shape)\n",
    "print(df.head())\n"
   ]
  },
  {
   "cell_type": "markdown",
   "id": "730fd64f",
   "metadata": {},
   "source": [
    "### 3. Data Preprocessing"
   ]
  },
  {
   "cell_type": "code",
   "execution_count": 4,
   "id": "9765997c",
   "metadata": {},
   "outputs": [
    {
     "name": "stdout",
     "output_type": "stream",
     "text": [
      "Time      0\n",
      "V1        0\n",
      "V2        0\n",
      "V3        0\n",
      "V4        0\n",
      "V5        0\n",
      "V6        0\n",
      "V7        0\n",
      "V8        0\n",
      "V9        0\n",
      "V10       0\n",
      "V11       0\n",
      "V12       0\n",
      "V13       0\n",
      "V14       0\n",
      "V15       0\n",
      "V16       0\n",
      "V17       0\n",
      "V18       0\n",
      "V19       0\n",
      "V20       0\n",
      "V21       0\n",
      "V22       0\n",
      "V23       0\n",
      "V24       0\n",
      "V25       0\n",
      "V26       0\n",
      "V27       0\n",
      "V28       0\n",
      "Amount    0\n",
      "Class     0\n",
      "dtype: int64\n"
     ]
    }
   ],
   "source": [
    "# Check for missing values\n",
    "print(df.isnull().sum())\n",
    "\n",
    "# Features scaling (especially Amount)\n",
    "scaler = StandardScaler()\n",
    "df['Amount_scaled'] = scaler.fit_transform(df['Amount'].values.reshape(-1,1))\n",
    "\n",
    "# Drop original Amount column if needed\n",
    "X = df.drop(['Time', 'Amount', 'Class'], axis=1)\n",
    "y = df['Class']  # 0: normal, 1: fraud\n"
   ]
  },
  {
   "cell_type": "markdown",
   "id": "4411a478",
   "metadata": {},
   "source": [
    "### 4. Train Isolation Forest "
   ]
  },
  {
   "cell_type": "code",
   "execution_count": 6,
   "id": "4689a9f6",
   "metadata": {},
   "outputs": [
    {
     "name": "stdout",
     "output_type": "stream",
     "text": [
      "Isolation Forest Performance:\n",
      "[[283969    346]\n",
      " [   353    139]]\n",
      "              precision    recall  f1-score   support\n",
      "\n",
      "           0       1.00      1.00      1.00    284315\n",
      "           1       0.29      0.28      0.28       492\n",
      "\n",
      "    accuracy                           1.00    284807\n",
      "   macro avg       0.64      0.64      0.64    284807\n",
      "weighted avg       1.00      1.00      1.00    284807\n",
      "\n"
     ]
    }
   ],
   "source": [
    "# Train Isolation Forest\n",
    "iso_forest = IsolationForest(contamination=0.0017, random_state=42)\n",
    "y_pred_iso = iso_forest.fit_predict(X)\n",
    "\n",
    "# Convert predictions: 1 -> normal, -1 -> anomaly\n",
    "y_pred_iso = [0 if x==1 else 1 for x in y_pred_iso]\n",
    "\n",
    "# Evaluate\n",
    "print(\"Isolation Forest Performance:\")\n",
    "print(confusion_matrix(y, y_pred_iso))\n",
    "print(classification_report(y, y_pred_iso))\n"
   ]
  },
  {
   "cell_type": "markdown",
   "id": "258778e4",
   "metadata": {},
   "source": [
    "### One Class SVM "
   ]
  },
  {
   "cell_type": "code",
   "execution_count": 7,
   "id": "7524ae0f",
   "metadata": {},
   "outputs": [
    {
     "name": "stdout",
     "output_type": "stream",
     "text": [
      "One-Class SVM Performance:\n",
      "[[283804    511]\n",
      " [   179    313]]\n",
      "              precision    recall  f1-score   support\n",
      "\n",
      "           0       1.00      1.00      1.00    284315\n",
      "           1       0.38      0.64      0.48       492\n",
      "\n",
      "    accuracy                           1.00    284807\n",
      "   macro avg       0.69      0.82      0.74    284807\n",
      "weighted avg       1.00      1.00      1.00    284807\n",
      "\n"
     ]
    }
   ],
   "source": [
    "# Train One-Class SVM\n",
    "ocsvm = OneClassSVM(nu=0.0017, kernel=\"rbf\", gamma=0.01)\n",
    "ocsvm.fit(X[y==0])  # Train only on normal transactions\n",
    "\n",
    "y_pred_svm = ocsvm.predict(X)\n",
    "y_pred_svm = [0 if x==1 else 1 for x in y_pred_svm]\n",
    "\n",
    "# Evaluate\n",
    "print(\"One-Class SVM Performance:\")\n",
    "print(confusion_matrix(y, y_pred_svm))\n",
    "print(classification_report(y, y_pred_svm))\n"
   ]
  },
  {
   "cell_type": "markdown",
   "id": "47d69e7a",
   "metadata": {},
   "source": [
    "### Visualization of Anomalies"
   ]
  },
  {
   "cell_type": "code",
   "execution_count": 8,
   "id": "b911fb55",
   "metadata": {},
   "outputs": [
    {
     "data": {
      "image/png": "[encoded data removed]",
      "text/plain": [
       "<Figure size 800x500 with 1 Axes>"
      ]
     },
     "metadata": {},
     "output_type": "display_data"
    }
   ],
   "source": [
    "# Plot anomalies detected by Isolation Forest\n",
    "df['anomaly_iso'] = y_pred_iso\n",
    "\n",
    "plt.figure(figsize=(8,5))\n",
    "sns.countplot(x='anomaly_iso', data=df)\n",
    "plt.title(\"Anomalies Detected by Isolation Forest\")\n",
    "plt.show()\n"
   ]
  },
  {
   "cell_type": "markdown",
   "id": "d45100af",
   "metadata": {},
   "source": [
    "**✅ Conclusion:**\n",
    "\n",
    "- One-Class SVM is better for detecting rare fraudulent transactions in this dataset.\n",
    "\n",
    "- Isolation Forest is safer for normal transaction detection but misses many frauds."
   ]
  }
 ],
 "metadata": {
  "kernelspec": {
   "display_name": "myEnv",
   "language": "python",
   "name": "python3"
  },
  "language_info": {
   "codemirror_mode": {
    "name": "ipython",
    "version": 3
   },
   "file_extension": ".py",
   "mimetype": "text/x-python",
   "name": "python",
   "nbconvert_exporter": "python",
   "pygments_lexer": "ipython3",
   "version": "3.12.6"
  }
 },
 "nbformat": 4,
 "nbformat_minor": 5
}
